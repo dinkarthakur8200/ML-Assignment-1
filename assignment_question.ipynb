{
 "cells": [
  {
   "cell_type": "markdown",
   "metadata": {},
   "source": [
    "# Lesson 1.2: Python Basics\n",
    "## Topics Covered:\n",
    "- Syntax and Semantics\n",
    "- Variables and Data Types\n",
    "- Basic Operators (Arithmetic, Comparison, Logical)\n"
   ]
  },
  {
   "cell_type": "markdown",
   "metadata": {},
   "source": [
    "## 1. Syntax and Semantics\n",
    "\n",
    "**Question 1:** Write a Python program to print \"Hello, World!\"."
   ]
  },
  {
   "cell_type": "code",
   "execution_count": 8,
   "metadata": {},
   "outputs": [
    {
     "name": "stdout",
     "output_type": "stream",
     "text": [
      "Hello World\n"
     ]
    }
   ],
   "source": [
    "# Your code here\n",
    "\n",
    "print(\"Hello World\");"
   ]
  },
  {
   "cell_type": "markdown",
   "metadata": {},
   "source": [
    "**Question 2:** Write a Python program that takes a user input and prints it."
   ]
  },
  {
   "cell_type": "code",
   "execution_count": 9,
   "metadata": {},
   "outputs": [
    {
     "name": "stdout",
     "output_type": "stream",
     "text": [
      "You entered: \n"
     ]
    }
   ],
   "source": [
    "# Your code here\n",
    "# Solution\n",
    "user_input = input(\"Please enter something: \")\n",
    "print(f\"You entered: {user_input}\")"
   ]
  },
  {
   "cell_type": "markdown",
   "metadata": {},
   "source": [
    "**Question 3:** Write a Python program to check if a number is positive, negative, or zero."
   ]
  },
  {
   "cell_type": "code",
   "execution_count": 10,
   "metadata": {},
   "outputs": [
    {
     "ename": "ValueError",
     "evalue": "could not convert string to float: ''",
     "output_type": "error",
     "traceback": [
      "\u001b[0;31m---------------------------------------------------------------------------\u001b[0m",
      "\u001b[0;31mValueError\u001b[0m                                Traceback (most recent call last)",
      "Cell \u001b[0;32mIn[10], line 11\u001b[0m\n\u001b[1;32m      8\u001b[0m     \u001b[38;5;28;01mreturn\u001b[39;00m \u001b[38;5;124m\"\u001b[39m\u001b[38;5;124mZero\u001b[39m\u001b[38;5;124m\"\u001b[39m\n\u001b[1;32m     10\u001b[0m \u001b[38;5;66;03m# Get user input\u001b[39;00m\n\u001b[0;32m---> 11\u001b[0m number \u001b[38;5;241m=\u001b[39m \u001b[38;5;28;43mfloat\u001b[39;49m\u001b[43m(\u001b[49m\u001b[38;5;28;43minput\u001b[39;49m\u001b[43m(\u001b[49m\u001b[38;5;124;43m\"\u001b[39;49m\u001b[38;5;124;43mEnter a number: \u001b[39;49m\u001b[38;5;124;43m\"\u001b[39;49m\u001b[43m)\u001b[49m\u001b[43m)\u001b[49m\n\u001b[1;32m     13\u001b[0m \u001b[38;5;66;03m# Check the number and print the result\u001b[39;00m\n\u001b[1;32m     14\u001b[0m result \u001b[38;5;241m=\u001b[39m check_number(number)\n",
      "\u001b[0;31mValueError\u001b[0m: could not convert string to float: ''"
     ]
    }
   ],
   "source": [
    "# Your code here\n",
    "def check_number(num):\n",
    "  if num > 0:\n",
    "    return \"Positive\"\n",
    "  elif num < 0:\n",
    "    return \"Negative\"\n",
    "  else:\n",
    "    return \"Zero\"\n",
    "\n",
    "# Get user input\n",
    "number = float(input(\"Enter a number: \"))\n",
    "\n",
    "# Check the number and print the result\n",
    "result = check_number(number)\n",
    "print(result)"
   ]
  },
  {
   "cell_type": "markdown",
   "metadata": {},
   "source": [
    "**Question 4:** Write a Python program to find the largest of three numbers."
   ]
  },
  {
   "cell_type": "code",
   "execution_count": 2,
   "metadata": {},
   "outputs": [
    {
     "name": "stdout",
     "output_type": "stream",
     "text": [
      "This is the largest number that you have entered: 111.0\n"
     ]
    }
   ],
   "source": [
    "# Your code here\n",
    "num1 = float(input(\"Enter the first number :\"));\n",
    "num2 = float(input(\"Enter the second number :\"));\n",
    "num3 = float(input(\"Enter the third number :\"));\n",
    "\n",
    "if(num1 >= num2) and (num1>=num3):\n",
    "    largest = num1\n",
    "elif(num2 >= num1) and (num2 >= num3):\n",
    "      largest  = num2\n",
    "else:\n",
    "     largest = num3\n",
    "\n",
    "print (f\"This is the largest number that you have entered: {largest}\");"
   ]
  },
  {
   "cell_type": "markdown",
   "metadata": {},
   "source": [
    "**Question 5:** Write a Python program to calculate the factorial of a number."
   ]
  },
  {
   "cell_type": "code",
   "execution_count": 1,
   "metadata": {},
   "outputs": [
    {
     "name": "stdout",
     "output_type": "stream",
     "text": [
      "The factorial of 21 is 51090942171709440000\n"
     ]
    }
   ],
   "source": [
    "# Your code here\n",
    "\n",
    "def factorial(n) :\n",
    "    if n==0 :\n",
    "        return 1 ;\n",
    "    else:\n",
    "        return n*factorial(n-1) ;\n",
    "\n",
    "num = int(input(\"Enter the number :\"));\n",
    "\n",
    "print(f\"The factorial of {num} is {factorial(num)}\");\n"
   ]
  },
  {
   "cell_type": "markdown",
   "metadata": {},
   "source": [
    "## 2. Variables and Data Types\n",
    "\n",
    "**Question 6:** Create variables of different data types: integer, float, string, and boolean. Print their values and types."
   ]
  },
  {
   "cell_type": "code",
   "execution_count": 5,
   "metadata": {},
   "outputs": [
    {
     "name": "stdout",
     "output_type": "stream",
     "text": [
      "Boolean Value: False ,type:<class 'bool'>\n",
      "String value: Dinkar Thkaur, type: <class 'str'>\n",
      "Integer value: 11, type: <class 'int'>\n"
     ]
    }
   ],
   "source": [
    "# Your code here\n",
    "interger_var = 11\n",
    "boolean_var = False\n",
    "string_var =  \"Dinkar Thkaur\"\n",
    "float_var = 11.32\n",
    "\n",
    "#Now, I'm going to print the values and data types.\n",
    "print(f\"Boolean Value: {boolean_var} ,type:{type(boolean_var)}\")\n",
    "print(f\"String value: {string_var}, type: {type(string_var)}\")\n",
    "print(f\"Integer value: {interger_var}, type: {type(interger_var)}\")"
   ]
  },
  {
   "cell_type": "markdown",
   "metadata": {},
   "source": [
    "**Question 7:** Write a Python program to swap the values of two variables."
   ]
  },
  {
   "cell_type": "code",
   "execution_count": 7,
   "metadata": {},
   "outputs": [
    {
     "name": "stdout",
     "output_type": "stream",
     "text": [
      "Before swaping: a = 23,b = 56\n",
      "After swaping : a = 56, b = 23\n"
     ]
    }
   ],
   "source": [
    "# Your code here\n",
    "a = 23\n",
    "b = 56\n",
    "\n",
    "print(f\"Before swaping: a = {a},b = {b}\")\n",
    "\n",
    "# writing the code for the swaping ...\n",
    "a,b = b,a\n",
    "# After swaping the funcion ...\n",
    "print(f\"After swaping : a = {a}, b = {b}\")"
   ]
  },
  {
   "cell_type": "markdown",
   "metadata": {},
   "source": [
    "**Question 8:** Write a Python program to convert Celsius to Fahrenheit."
   ]
  },
  {
   "cell_type": "code",
   "execution_count": 8,
   "metadata": {},
   "outputs": [
    {
     "name": "stdout",
     "output_type": "stream",
     "text": [
      "35.0°C is equal to 95.0 F\n"
     ]
    }
   ],
   "source": [
    "# Your code here\n",
    "\n",
    "celsius = float(input(\"Enter the temperature in Celsius only : \"))\n",
    "fahrenheit = (celsius *9/5) + 32\n",
    "\n",
    "print(f\"{celsius}°C is equal to {fahrenheit} F\")"
   ]
  },
  {
   "cell_type": "markdown",
   "metadata": {},
   "source": [
    "**Question 9:** Write a Python program to concatenate two strings."
   ]
  },
  {
   "cell_type": "code",
   "execution_count": 9,
   "metadata": {},
   "outputs": [
    {
     "name": "stdout",
     "output_type": "stream",
     "text": [
      "Hello, Aap sab kaise hai !!\n"
     ]
    }
   ],
   "source": [
    "# Your code here\n",
    "string1 = \"Hello,\"\n",
    "string2 = \"Aap sab kaise hai !!\"\n",
    "concatenated_string = string1 + \" \" + string2\n",
    "print(concatenated_string)"
   ]
  },
  {
   "cell_type": "markdown",
   "metadata": {},
   "source": [
    "**Question 10:** Write a Python program to check if a variable is of a specific data type."
   ]
  },
  {
   "cell_type": "code",
   "execution_count": 11,
   "metadata": {},
   "outputs": [
    {
     "name": "stdout",
     "output_type": "stream",
     "text": [
      "Dinkar Thakur is a String\n"
     ]
    }
   ],
   "source": [
    "# Your code here\n",
    "var = \"Dinkar Thakur\"\n",
    "if isinstance(var, str):\n",
    "    print(f\"{var} is a String\")\n",
    "else:\n",
    "    print(f\"{var} is not a String\")"
   ]
  },
  {
   "cell_type": "markdown",
   "metadata": {},
   "source": [
    "## 3. Basic Operators (Arithmetic, Comparison, Logical)\n",
    "\n",
    "**Question 11:** Write a Python program to perform arithmetic operations: addition, subtraction, multiplication, and division."
   ]
  },
  {
   "cell_type": "code",
   "execution_count": 1,
   "metadata": {},
   "outputs": [
    {
     "name": "stdout",
     "output_type": "stream",
     "text": [
      "The addition of both number is : 3+8 = 11\n",
      "The subtraction of both number is : 3-8=-5\n",
      "The multiplicaiton is : 3*8=24\n",
      "The division of the both number is : 3/8=0.375\n"
     ]
    }
   ],
   "source": [
    "# Your code here\n",
    "a= 3\n",
    "b= 8\n",
    "\n",
    "print(f\"The addition of both number is : {a}+{b} = {a+b}\");\n",
    "print(f\"The subtraction of both number is : {a}-{b}={a-b}\");\n",
    "print(f\"The multiplicaiton is : {a}*{b}={a*b}\");\n",
    "print(f\"The division of the both number is : {a}/{b}={a/b}\");"
   ]
  },
  {
   "cell_type": "markdown",
   "metadata": {},
   "source": [
    "**Question 12:** Write a Python program to demonstrate comparison operators: equal to, not equal to, greater than, less than."
   ]
  },
  {
   "cell_type": "code",
   "execution_count": 4,
   "metadata": {},
   "outputs": [
    {
     "name": "stdout",
     "output_type": "stream",
     "text": [
      "5 == 4: False\n",
      "5 != 4: True\n",
      "5 > 4: True\n",
      "5 < 4: False\n"
     ]
    }
   ],
   "source": [
    "# Your code here\n",
    "a = 5\n",
    "b = 4\n",
    "\n",
    "print(f\"{a} == {b}: {a == b}\")\n",
    "print(f\"{a} != {b}: {a != b}\")\n",
    "print(f\"{a} > {b}: {a > b}\")\n",
    "print(f\"{a} < {b}: {a < b}\")"
   ]
  },
  {
   "cell_type": "markdown",
   "metadata": {},
   "source": [
    "**Question 13:** Write a Python program to demonstrate logical operators: and, or, not."
   ]
  },
  {
   "cell_type": "code",
   "execution_count": 11,
   "metadata": {},
   "outputs": [
    {
     "name": "stdout",
     "output_type": "stream",
     "text": [
      "True and False: True\n",
      "True or False: True\n",
      "not True: False\n"
     ]
    }
   ],
   "source": [
    "# Your code here\n",
    "a = True\n",
    "b = False\n",
    "\n",
    "print(f\"True and False: {a and b}\")\n",
    "print(f\"True or False: {a or b}\")\n",
    "print(f\"not True: {not a}\")"
   ]
  },
  {
   "cell_type": "markdown",
   "metadata": {},
   "source": [
    "**Question 14:** Write a Python program to calculate the square of a number."
   ]
  },
  {
   "cell_type": "code",
   "execution_count": 16,
   "metadata": {},
   "outputs": [
    {
     "name": "stdout",
     "output_type": "stream",
     "text": [
      "The square of number is : 121.0\n"
     ]
    }
   ],
   "source": [
    "# Your code here\n",
    "num = float(input(\"Enter the number : \"));\n",
    "\n",
    "print(f\"The square of number is : {num*num}\");"
   ]
  },
  {
   "cell_type": "markdown",
   "metadata": {},
   "source": [
    "**Question 15:** Write a Python program to check if a number is even or odd."
   ]
  },
  {
   "cell_type": "code",
   "execution_count": 18,
   "metadata": {},
   "outputs": [
    {
     "name": "stdout",
     "output_type": "stream",
     "text": [
      "16 is even.\n"
     ]
    }
   ],
   "source": [
    "# Your code here\n",
    "num = int(input(\"Enter a number: \"))\n",
    "if num % 2 == 0:\n",
    "    print(f\"{num} is even.\")\n",
    "else:\n",
    "    print(f\"{num} is odd.\")"
   ]
  },
  {
   "cell_type": "markdown",
   "metadata": {},
   "source": [
    "**Question 16:** Write a Python program to find the sum of the first n natural numbers."
   ]
  },
  {
   "cell_type": "code",
   "execution_count": 19,
   "metadata": {},
   "outputs": [
    {
     "name": "stdout",
     "output_type": "stream",
     "text": [
      "The sum of the first 3 natural numbers is 6.0\n"
     ]
    }
   ],
   "source": [
    "# Your code here\n",
    "n = int(input(\"Enter a number: \"))\n",
    "sum_n = (n * (n + 1))// 2\n",
    "print(f\"The sum of the first {n} natural numbers is {sum_n}\")"
   ]
  },
  {
   "cell_type": "markdown",
   "metadata": {},
   "source": [
    "**Question 17:** Write a Python program to check if a year is a leap year."
   ]
  },
  {
   "cell_type": "code",
   "execution_count": 20,
   "metadata": {},
   "outputs": [
    {
     "name": "stdout",
     "output_type": "stream",
     "text": [
      "2442 is not a leap year.\n"
     ]
    }
   ],
   "source": [
    "# Your code here\n",
    "year = int(input(\"Enter a year: \"))\n",
    "if (year % 4 == 0 and year % 100 != 0) or (year % 400 == 0):\n",
    "    print(f\"{year} is a leap year.\")\n",
    "else:\n",
    "    print(f\"{year} is not a leap year.\")\n"
   ]
  },
  {
   "cell_type": "markdown",
   "metadata": {},
   "source": [
    "**Question 18:** Write a Python program to reverse a string."
   ]
  },
  {
   "cell_type": "code",
   "execution_count": 21,
   "metadata": {},
   "outputs": [
    {
     "name": "stdout",
     "output_type": "stream",
     "text": [
      "The reversed string is:  rakniD\n"
     ]
    }
   ],
   "source": [
    "# Your code here\n",
    "string = input(\"Enter a string: \")\n",
    "reversed_string = string[::-1]\n",
    "print(f\"The reversed string is: {reversed_string}\")"
   ]
  },
  {
   "cell_type": "markdown",
   "metadata": {},
   "source": [
    "**Question 19:** Write a Python program to check if a string is a palindrome."
   ]
  },
  {
   "cell_type": "code",
   "execution_count": 22,
   "metadata": {},
   "outputs": [
    {
     "name": "stdout",
     "output_type": "stream",
     "text": [
      "dau is not a palindrome.\n"
     ]
    }
   ],
   "source": [
    "# Your code here\n",
    "# Solution\n",
    "string = input(\"Enter a string: \")\n",
    "if string == string[::-1]:\n",
    "    print(f\"{string} is a palindrome.\")\n",
    "else:\n",
    "    print(f\"{string} is not a palindrome.\")"
   ]
  },
  {
   "cell_type": "markdown",
   "metadata": {},
   "source": [
    "**Question 20:** Write a Python program to sort a list of numbers in ascending order."
   ]
  },
  {
   "cell_type": "code",
   "execution_count": 25,
   "metadata": {},
   "outputs": [
    {
     "name": "stdout",
     "output_type": "stream",
     "text": [
      "Sorted numbers: [21, 21, 22, 22, 2211]\n"
     ]
    }
   ],
   "source": [
    "def bubble_sort(numbers):\n",
    "  \"\"\"Sorts a list of numbers in ascending order using the bubble sort algorithm.\n",
    "\n",
    "  Args:\n",
    "    numbers: The list of numbers to sort.\n",
    "\n",
    "  Returns:\n",
    "    The sorted list of numbers.\n",
    "  \"\"\"\n",
    "\n",
    "  n = len(numbers)\n",
    "\n",
    "  # Traverse through all array elements\n",
    "  for i in range(n):\n",
    "\n",
    "    # Last i elements are already in place\n",
    "    for j in range(0, n - i - 1):\n",
    "\n",
    "      # Traverse the array from 0 to n-i-1\n",
    "      # Swap if the element found is greater than the next element\n",
    "      if numbers[j] > numbers[j + 1]:\n",
    "        numbers[j], numbers[j + 1] = numbers[j + 1], numbers[j]\n",
    "\n",
    "  return numbers\n",
    "\n",
    "# Get the list of numbers from the user\n",
    "numbers = list(map(int, input(\"Enter the numbers separated by spaces: \").split()))\n",
    "\n",
    "# Sort the list using bubble sort\n",
    "sorted_numbers = bubble_sort(numbers)\n",
    "\n",
    "# Print the sorted list\n",
    "print(\"Sorted numbers:\", sorted_numbers)"
   ]
  }
 ],
 "metadata": {
  "kernelspec": {
   "display_name": "Python 3",
   "language": "python",
   "name": "python3"
  },
  "language_info": {
   "codemirror_mode": {
    "name": "ipython",
    "version": 3
   },
   "file_extension": ".py",
   "mimetype": "text/x-python",
   "name": "python",
   "nbconvert_exporter": "python",
   "pygments_lexer": "ipython3",
   "version": "3.11.9"
  }
 },
 "nbformat": 4,
 "nbformat_minor": 4
}
